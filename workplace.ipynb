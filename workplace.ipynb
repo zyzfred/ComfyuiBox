{
 "cells": [
  {
   "cell_type": "code",
   "execution_count": 24,
   "id": "507d4157-640f-4ae2-ad34-492025ab9a33",
   "metadata": {},
   "outputs": [],
   "source": [
    "import requests\n",
    "import json"
   ]
  },
  {
   "cell_type": "code",
   "execution_count": 55,
   "id": "11318690-a42d-4486-9776-c9af8064e0ef",
   "metadata": {},
   "outputs": [],
   "source": [
    "BASE_URL = \"http://10.5.101.152:8370\""
   ]
  },
  {
   "cell_type": "markdown",
   "id": "e142b8c1-01cb-40a1-9163-5ba249c5232d",
   "metadata": {},
   "source": [
    "# 文字生成workflow"
   ]
  },
  {
   "cell_type": "code",
   "execution_count": 26,
   "id": "d680b5e0-ccc0-45d8-b31c-83ffa025eda5",
   "metadata": {},
   "outputs": [],
   "source": [
    "def get_all_workflows():\n",
    "    # 获取所有历史任务\n",
    "    response = requests.get(f\"{BASE_URL}/history\")\n",
    "    if response.status_code == 200:\n",
    "        return response.json()\n",
    "    else:ls\n",
    "        print(f\"获取历史记录失败，状态码: {response.status_code}\")\n",
    "        return None\n",
    "\n",
    "def submit_workflow_from_file(data):\n",
    "\n",
    "    response = requests.post(\n",
    "        f\"{BASE_URL}/prompt\",\n",
    "        headers={\"Content-Type\": \"application/json\"},\n",
    "        data=json.dumps(data, indent=2)\n",
    "    )\n",
    "    if response.status_code == 200:\n",
    "        prompt_id = response.json().get(\"prompt_id\")\n",
    "        print(f\"工作流已提交，任务 ID: {prompt_id}\")\n",
    "    else:\n",
    "        print(f\"提交失败，状态码: {response.status_code}\")\n"
   ]
  },
  {
   "cell_type": "code",
   "execution_count": 48,
   "id": "9085ef33-29f4-4a82-9d7f-bdc2fdb7a319",
   "metadata": {},
   "outputs": [],
   "source": [
    "# 加载json文件\n",
    "with open(\"workflow/故事生成.json\", \"r\") as f:\n",
    "    workflow_data = json.load(f)"
   ]
  },
  {
   "cell_type": "code",
   "execution_count": 49,
   "id": "5f5f361f-9824-449f-8db0-4484e74efadf",
   "metadata": {},
   "outputs": [],
   "source": [
    "parsed_workflow_data = {\"prompt\": workflow_data}"
   ]
  },
  {
   "cell_type": "code",
   "execution_count": null,
   "id": "927071d0-8a78-4c6b-8144-062344a29408",
   "metadata": {},
   "outputs": [],
   "source": [
    "parsed_workflow_data[\"prompt\"][\"5\"][\"inputs\"][\"prompt\"] = \"1 woman, a 30 y.o pretty male, sexy\""
   ]
  },
  {
   "cell_type": "code",
   "execution_count": 69,
   "id": "a3136802-4796-4e80-b51a-ec88730f0864",
   "metadata": {},
   "outputs": [
    {
     "name": "stdout",
     "output_type": "stream",
     "text": [
      "工作流已提交，任务 ID: 5ae4a134-4ded-48fc-aa4b-d4681f7ceeac\n"
     ]
    }
   ],
   "source": [
    "submit_workflow_from_file(parsed_workflow_data)"
   ]
  },
  {
   "cell_type": "code",
   "execution_count": 70,
   "id": "536a91de-89bc-4a70-a696-45590be7f751",
   "metadata": {},
   "outputs": [],
   "source": [
    "prompt_id = \"5ae4a134-4ded-48fc-aa4b-d4681f7ceeac\""
   ]
  },
  {
   "cell_type": "code",
   "execution_count": 71,
   "id": "76706028-588f-45b9-b9f7-27707a3b5fbe",
   "metadata": {},
   "outputs": [],
   "source": [
    "# 查询任务状态\n",
    "response = requests.get(f\"{BASE_URL}/history/{prompt_id}\")"
   ]
  },
  {
   "cell_type": "code",
   "execution_count": 232,
   "id": "f9d2255c-7250-4fa8-9cb6-06247e8ed782",
   "metadata": {},
   "outputs": [],
   "source": [
    "resp_data = {'5ae4a134-4ded-48fc-aa4b-d4681f7ceeac': {'prompt': [2,\n",
    "   '5ae4a134-4ded-48fc-aa4b-d4681f7ceeac',\n",
    "   {'1': {'inputs': {'ckpt_name': 'epiCrealism.safetensors'},\n",
    "     'class_type': 'CheckpointLoaderSimple'},\n",
    "    '2': {'inputs': {'MODEL': ['1', 0]}, 'class_type': 'Anything Everywhere'},\n",
    "    '3': {'inputs': {'CLIP': ['1', 1]}, 'class_type': 'Anything Everywhere'},\n",
    "    '4': {'inputs': {'VAE': ['1', 2]}, 'class_type': 'Anything Everywhere'},\n",
    "    '5': {'inputs': {'prompt': '1 man, a 30 y.o pretty male, sexy'},\n",
    "     'class_type': 'SeaArtCharactorPrompt'},\n",
    "    '6': {'inputs': {'charactor_prompt': ['5', 0],\n",
    "      'prompt': 'Is at the home eating breakfast'},\n",
    "     'class_type': 'SeaArtAppendPrompt'},\n",
    "    '7': {'inputs': {'charactor_prompt': ['5', 0],\n",
    "      'prompt': 'Receives a phone call, close up'},\n",
    "     'class_type': 'SeaArtAppendPrompt'},\n",
    "    '8': {'inputs': {'charactor_prompt': ['5', 0],\n",
    "      'prompt': 'Inside the spaceship with bikini'},\n",
    "     'class_type': 'SeaArtAppendPrompt'},\n",
    "    '9': {'inputs': {'charactor_prompt': ['5', 0],\n",
    "      'prompt': 'look at the camera, nsfw'},\n",
    "     'class_type': 'SeaArtAppendPrompt'},\n",
    "    '10': {'inputs': {'text': ['6', 0], 'clip': ['1', 1]},\n",
    "     'class_type': 'CLIPTextEncode'},\n",
    "    '11': {'inputs': {'text': ['7', 0], 'clip': ['1', 1]},\n",
    "     'class_type': 'CLIPTextEncode'},\n",
    "    '12': {'inputs': {'text': ['8', 0], 'clip': ['1', 1]},\n",
    "     'class_type': 'CLIPTextEncode'},\n",
    "    '13': {'inputs': {'text': ['9', 0], 'clip': ['1', 1]},\n",
    "     'class_type': 'CLIPTextEncode'},\n",
    "    '14': {'inputs': {'text': ['9', 0], 'clip': ['1', 1]},\n",
    "     'class_type': 'CLIPTextEncode'},\n",
    "    '15': {'inputs': {'text': ['9', 0], 'clip': ['1', 1]},\n",
    "     'class_type': 'CLIPTextEncode'},\n",
    "    '16': {'inputs': {'conditioning_1': ['10', 0],\n",
    "      'conditioning_2': ['11', 0],\n",
    "      'conditioning_3': ['12', 0],\n",
    "      'conditioning_4': ['27', 0],\n",
    "      'clip': ['1', 1]},\n",
    "     'class_type': 'SeaArtMergeStoryCondition'},\n",
    "    '17': {'inputs': {'conditioning_1': ['13', 0],\n",
    "      'conditioning_2': ['14', 0],\n",
    "      'conditioning_3': ['15', 0],\n",
    "      'conditioning_4': ['28', 0],\n",
    "      'clip': ['1', 1]},\n",
    "     'class_type': 'SeaArtMergeStoryCondition'},\n",
    "    '18': {'inputs': {'seed': 777438375721231,\n",
    "      'steps': 20,\n",
    "      'cfg': 8.0,\n",
    "      'sampler_name': 'dpmpp_2m',\n",
    "      'scheduler': 'karras',\n",
    "      'denoise': 1.0,\n",
    "      'model': ['19', 0],\n",
    "      'positive': ['16', 0],\n",
    "      'negative': ['17', 0],\n",
    "      'latent_image': ['20', 0]},\n",
    "     'class_type': 'KSampler'},\n",
    "    '19': {'inputs': {'id_length': 4,\n",
    "      'width': 512,\n",
    "      'height': 512,\n",
    "      'same': 0.5,\n",
    "      'model': ['1', 0]},\n",
    "     'class_type': 'SeaArtApplyStory'},\n",
    "    '20': {'inputs': {'width': 512, 'height': 512, 'batch_size': 4},\n",
    "     'class_type': 'EmptyLatentImage'},\n",
    "    '21': {'inputs': {'samples': ['18', 0], 'vae': ['1', 2]},\n",
    "     'class_type': 'VAEDecode'},\n",
    "    '22': {'inputs': {'images': ['21', 0]}, 'class_type': 'PreviewImage'},\n",
    "    '26': {'inputs': {'charactor_prompt': ['5', 0],\n",
    "      'prompt': 'Fighting in the space with superman suit'},\n",
    "     'class_type': 'SeaArtAppendPrompt'},\n",
    "    '27': {'inputs': {'text': ['26', 0], 'clip': ['1', 1]},\n",
    "     'class_type': 'CLIPTextEncode'},\n",
    "    '28': {'inputs': {'text': ['9', 0], 'clip': ['1', 1]},\n",
    "     'class_type': 'CLIPTextEncode'}},\n",
    "   {},\n",
    "   ['3', '22', '2', '4']],\n",
    "  'outputs': {'22': {'images': [{'filename': 'ComfyUI_temp_jqjkj_00005_.png',\n",
    "      'subfolder': '',\n",
    "      'type': 'temp'},\n",
    "     {'filename': 'ComfyUI_temp_jqjkj_00006_.png',\n",
    "      'subfolder': '',\n",
    "      'type': 'temp'},\n",
    "     {'filename': 'ComfyUI_temp_jqjkj_00007_.png',\n",
    "      'subfolder': '',\n",
    "      'type': 'temp'},\n",
    "     {'filename': 'ComfyUI_temp_jqjkj_00008_.png',\n",
    "      'subfolder': '',\n",
    "      'type': 'temp'}]}},\n",
    "  'status': {'status_str': 'success',\n",
    "   'completed': True,\n",
    "   'messages': [['execution_start',\n",
    "     {'prompt_id': '5ae4a134-4ded-48fc-aa4b-d4681f7ceeac',\n",
    "      'timestamp': 1740992964551}],\n",
    "    ['execution_cached',\n",
    "     {'nodes': ['1',\n",
    "       '2',\n",
    "       '3',\n",
    "       '4',\n",
    "       '9',\n",
    "       '13',\n",
    "       '14',\n",
    "       '15',\n",
    "       '17',\n",
    "       '19',\n",
    "       '20',\n",
    "       '28'],\n",
    "      'prompt_id': '5ae4a134-4ded-48fc-aa4b-d4681f7ceeac',\n",
    "      'timestamp': 1740992964560}],\n",
    "    ['execution_success',\n",
    "     {'prompt_id': '5ae4a134-4ded-48fc-aa4b-d4681f7ceeac',\n",
    "      'timestamp': 1740992969779}]]},\n",
    "  'meta': {'22': {'node_id': '22',\n",
    "    'display_node': '22',\n",
    "    'parent_node': None,\n",
    "    'real_node_id': '22'}}}}\n"
   ]
  },
  {
   "cell_type": "code",
   "execution_count": 233,
   "id": "fa2c253f-1c4b-426e-99c8-ca013e175369",
   "metadata": {},
   "outputs": [],
   "source": [
    "outputs = resp_data[\"5ae4a134-4ded-48fc-aa4b-d4681f7ceeac\"][\"outputs\"]"
   ]
  },
  {
   "cell_type": "code",
   "execution_count": 234,
   "id": "bffd5e7f-613f-48c6-a3d6-8f4a214bf2f7",
   "metadata": {},
   "outputs": [],
   "source": [
    "download_meta = []\n",
    "\n",
    "for k, v in outputs.items():\n",
    "    for image in v[\"images\"]:\n",
    "        download_meta.append({\"name\": image[\"filename\"], \"type\": image[\"type\"]})"
   ]
  },
  {
   "cell_type": "code",
   "execution_count": 235,
   "id": "ff857c37-fd9e-48b0-983c-22ff7f418fad",
   "metadata": {},
   "outputs": [
    {
     "data": {
      "text/plain": [
       "[{'name': 'ComfyUI_temp_jqjkj_00005_.png', 'type': 'temp'},\n",
       " {'name': 'ComfyUI_temp_jqjkj_00006_.png', 'type': 'temp'},\n",
       " {'name': 'ComfyUI_temp_jqjkj_00007_.png', 'type': 'temp'},\n",
       " {'name': 'ComfyUI_temp_jqjkj_00008_.png', 'type': 'temp'}]"
      ]
     },
     "execution_count": 235,
     "metadata": {},
     "output_type": "execute_result"
    }
   ],
   "source": [
    "download_meta"
   ]
  },
  {
   "cell_type": "code",
   "execution_count": 73,
   "id": "a2afe00a-0eae-45da-8a7c-7918c1334281",
   "metadata": {},
   "outputs": [
    {
     "name": "stdout",
     "output_type": "stream",
     "text": [
      "图片已保存为 output.png\n"
     ]
    }
   ],
   "source": [
    "# 假设从历史记录中提取到的图片路径是 \"output.png\"\n",
    "image_filename = \"ComfyUI_temp_jqjkj_00005_.png\"\n",
    "\n",
    "# 下载图片\n",
    "response = requests.get(f\"{BASE_URL}/view?filename={image_filename}&type=temp\")\n",
    "\n",
    "# 检查响应状态\n",
    "if response.status_code == 200:\n",
    "    with open(\"output2.png\", \"wb\") as f:\n",
    "        f.write(response.content)\n",
    "    print(\"图片已保存为 output.png\")\n",
    "else:\n",
    "    print(f\"图片下载失败，状态码: {response.status_code}\")"
   ]
  },
  {
   "cell_type": "markdown",
   "id": "86ab5ee3-cc4e-4383-a856-34b596b859ee",
   "metadata": {},
   "source": [
    "# 图片生成workflow"
   ]
  },
  {
   "cell_type": "code",
   "execution_count": 175,
   "id": "db952b2c-b8f1-4c93-a10e-10fec27c7889",
   "metadata": {},
   "outputs": [],
   "source": [
    "# 加载json文件\n",
    "with open(\"workflow/多角度特写.json\", \"r\") as f:\n",
    "    pic_workflow = json.load(f)"
   ]
  },
  {
   "cell_type": "code",
   "execution_count": 239,
   "id": "41946a96-bab8-4ce2-b782-fcf8f8b8241a",
   "metadata": {},
   "outputs": [
    {
     "data": {
      "text/plain": [
       "{'inputs': {'image': '/data/ysp-comfyui-platforms/ComfyUI-G4/input/生成人像摄影图片 (1).png',\n",
       "  'upload': 'image'},\n",
       " 'class_type': 'LoadImage'}"
      ]
     },
     "execution_count": 239,
     "metadata": {},
     "output_type": "execute_result"
    }
   ],
   "source": [
    "pic_workflow[\"44\"]"
   ]
  },
  {
   "cell_type": "code",
   "execution_count": 255,
   "id": "7fed39b8-3e3a-4b05-908b-d3ca4815b812",
   "metadata": {
    "scrolled": true
   },
   "outputs": [
    {
     "data": {
      "text/plain": [
       "{'6': {'inputs': {'text': '((masterpiece, photo, best quality)), award winning, 4k, 8k, a character sheet, multiple views from different angles, looking in different directions, visible face, (white background:1.3)',\n",
       "   'clip': ['11', 0]},\n",
       "  'class_type': 'CLIPTextEncode'},\n",
       " '8': {'inputs': {'samples': ['13', 0], 'vae': ['63', 0]},\n",
       "  'class_type': 'VAEDecode'},\n",
       " '9': {'inputs': {'filename_prefix': 'ComfyUI', 'images': ['8', 0]},\n",
       "  'class_type': 'SaveImage'},\n",
       " '11': {'inputs': {'clip_name1': 'clip_l.safetensors',\n",
       "   'clip_name2': 't5xxl_fp8_e4m3fn.safetensors',\n",
       "   'type': 'flux'},\n",
       "  'class_type': 'DualCLIPLoader'},\n",
       " '13': {'inputs': {'noise': ['25', 0],\n",
       "   'guider': ['22', 0],\n",
       "   'sampler': ['16', 0],\n",
       "   'sigmas': ['17', 0],\n",
       "   'latent_image': ['118', 0]},\n",
       "  'class_type': 'SamplerCustomAdvanced'},\n",
       " '16': {'inputs': {'sampler_name': 'deis'}, 'class_type': 'KSamplerSelect'},\n",
       " '17': {'inputs': {'scheduler': 'beta',\n",
       "   'steps': 25,\n",
       "   'denoise': 1,\n",
       "   'model': ['117', 0]},\n",
       "  'class_type': 'BasicScheduler'},\n",
       " '22': {'inputs': {'model': ['117', 0], 'conditioning': ['121', 0]},\n",
       "  'class_type': 'BasicGuider'},\n",
       " '25': {'inputs': {'noise_seed': 245670984212664},\n",
       "  'class_type': 'RandomNoise'},\n",
       " '40': {'inputs': {'unet_name': 'flux1-dev-Q8_0.gguf'},\n",
       "  'class_type': 'UnetLoaderGGUF'},\n",
       " '41': {'inputs': {'pulid_file': 'pulid_flux_v0.9.0.safetensors'},\n",
       "  'class_type': 'PulidFluxModelLoader'},\n",
       " '42': {'inputs': {}, 'class_type': 'PulidFluxEvaClipLoader'},\n",
       " '43': {'inputs': {'provider': 'CPU'},\n",
       "  'class_type': 'PulidFluxInsightFaceLoader'},\n",
       " '44': {'inputs': {'image': '/data/ysp-comfyui-platforms/ComfyUI-G4/input/生成人像摄影图片 (1).png',\n",
       "   'upload': 'image'},\n",
       "  'class_type': 'LoadImage'},\n",
       " '45': {'inputs': {'weight': 0.8,\n",
       "   'start_at': 0,\n",
       "   'end_at': 1,\n",
       "   'fusion': 'mean',\n",
       "   'fusion_weight_max': 1,\n",
       "   'fusion_weight_min': 0,\n",
       "   'train_step': 1000,\n",
       "   'use_gray': True,\n",
       "   'model': ['40', 0],\n",
       "   'pulid_flux': ['41', 0],\n",
       "   'eva_clip': ['42', 0],\n",
       "   'face_analysis': ['43', 0],\n",
       "   'image': ['44', 0]},\n",
       "  'class_type': 'ApplyPulidFlux'},\n",
       " '57': {'inputs': {'image': '/data/ysp-comfyui-platforms/ComfyUI-G4/input/multiangle_face.png',\n",
       "   'upload': 'image'},\n",
       "  'class_type': 'LoadImage'},\n",
       " '61': {'inputs': {'strength': 0.66,\n",
       "   'start_percent': 0,\n",
       "   'end_percent': 0.4,\n",
       "   'positive': ['6', 0],\n",
       "   'negative': ['64', 0],\n",
       "   'control_net': ['110', 0],\n",
       "   'vae': ['63', 0],\n",
       "   'image': ['57', 0]},\n",
       "  'class_type': 'ControlNetApplySD3'},\n",
       " '63': {'inputs': {'vae_name': 'ae.safetensors'}, 'class_type': 'VAELoader'},\n",
       " '64': {'inputs': {'text': ['65', 0], 'clip': ['11', 0]},\n",
       "  'class_type': 'CLIPTextEncode'},\n",
       " '65': {'inputs': {'positive': 'embedding:easynegative, embedding:ng_deepnegative_v1_75t, blurry, blurr, unsharp focus, depth of field, DoF, BokeH, easy negative, badhandv4, (worst quality, low quality, normal quality), bad-artist, blurry, ugly, ((bad anatomy)),((bad hands)),((bad proportions)),((duplicate limbs)),((fused limbs)),((interlocking fingers)),((poorly drawn face)),((bad embedding:bad-hands-5)), ((long neck)), ((ugly neck)), ((bad eyes)), ((center eyes))'},\n",
       "  'class_type': 'easy positive'},\n",
       " '110': {'inputs': {'control_net_name': 'FLUX.1/flux_shakker_labs_union_pro-fp8_e4m3fn.safetensors'},\n",
       "  'class_type': 'ControlNetLoader'},\n",
       " '117': {'inputs': {'max_shift': 1.15,\n",
       "   'base_shift': 0.5,\n",
       "   'width': 1120,\n",
       "   'height': 1024,\n",
       "   'model': ['45', 0]},\n",
       "  'class_type': 'ModelSamplingFlux'},\n",
       " '118': {'inputs': {'width': 1120, 'height': 1024, 'batch_size': 1},\n",
       "  'class_type': 'EmptySD3LatentImage'},\n",
       " '121': {'inputs': {'guidance': 4.2, 'conditioning': ['61', 0]},\n",
       "  'class_type': 'FluxGuidance'}}"
      ]
     },
     "execution_count": 255,
     "metadata": {},
     "output_type": "execute_result"
    }
   ],
   "source": [
    "pic_workflow"
   ]
  },
  {
   "cell_type": "code",
   "execution_count": 176,
   "id": "3c2ec9b0-a90e-4773-a3e6-dd6686438c57",
   "metadata": {},
   "outputs": [],
   "source": [
    "# 加载图片"
   ]
  },
  {
   "cell_type": "code",
   "execution_count": 184,
   "id": "daa2c478-88d8-4134-9f73-41ed4f1d516c",
   "metadata": {},
   "outputs": [],
   "source": [
    "sample_image = \"/data/ysp-comfyui-platforms/ComfyUI-G4/input/multiangle_face.png\""
   ]
  },
  {
   "cell_type": "code",
   "execution_count": 185,
   "id": "7cbf6dd3-a918-4348-a397-2bf536ee7ea0",
   "metadata": {},
   "outputs": [],
   "source": [
    "input_image =  \"/data/ysp-comfyui-platforms/ComfyUI-G4/input/生成人像摄影图片 (1).png\""
   ]
  },
  {
   "cell_type": "code",
   "execution_count": 186,
   "id": "78158636-fcf3-466c-9e73-50397c8951d7",
   "metadata": {},
   "outputs": [],
   "source": [
    "pic_workflow[\"44\"][\"inputs\"][\"image\"] = input_image"
   ]
  },
  {
   "cell_type": "code",
   "execution_count": 187,
   "id": "fe1693fb-0dd4-4c6c-ba18-8d34ca45f40c",
   "metadata": {},
   "outputs": [],
   "source": [
    "pic_workflow[\"57\"][\"inputs\"][\"image\"] = sample_image"
   ]
  },
  {
   "cell_type": "code",
   "execution_count": 188,
   "id": "b909bbb5-80bb-4e73-b2a6-f8e04bda6493",
   "metadata": {},
   "outputs": [],
   "source": [
    "parsed_workflow_data = {\"prompt\": pic_workflow}"
   ]
  },
  {
   "cell_type": "code",
   "execution_count": 189,
   "id": "8abab7e9-25c9-4a5a-9c4a-9f5cf1db961c",
   "metadata": {},
   "outputs": [
    {
     "name": "stdout",
     "output_type": "stream",
     "text": [
      "工作流已提交，任务 ID: 74d03375-f27d-489c-a954-4374d33d8657\n"
     ]
    }
   ],
   "source": [
    "submit_workflow_from_file(parsed_workflow_data)"
   ]
  },
  {
   "cell_type": "code",
   "execution_count": 225,
   "id": "41396937-ff98-4455-9107-4547ae393b8c",
   "metadata": {},
   "outputs": [],
   "source": [
    "prompt_id = \"74d03375-f27d-489c-a954-4374d33d8657\""
   ]
  },
  {
   "cell_type": "code",
   "execution_count": 226,
   "id": "c879718d-5fd4-4c6c-9068-cd3eba1a440a",
   "metadata": {},
   "outputs": [],
   "source": [
    "# 查询任务状态\n",
    "response = requests.get(f\"{BASE_URL}/history/{prompt_id}\")"
   ]
  },
  {
   "cell_type": "code",
   "execution_count": 227,
   "id": "13caeb02-42d2-4498-869f-740bba95a6c1",
   "metadata": {},
   "outputs": [],
   "source": [
    "resp_data = response.json()"
   ]
  },
  {
   "cell_type": "code",
   "execution_count": 242,
   "id": "aa207234-cfbc-4814-b30f-d27f08975bbc",
   "metadata": {
    "scrolled": true
   },
   "outputs": [
    {
     "data": {
      "text/plain": [
       "{'5ae4a134-4ded-48fc-aa4b-d4681f7ceeac': {'prompt': [2,\n",
       "   '5ae4a134-4ded-48fc-aa4b-d4681f7ceeac',\n",
       "   {'1': {'inputs': {'ckpt_name': 'epiCrealism.safetensors'},\n",
       "     'class_type': 'CheckpointLoaderSimple'},\n",
       "    '2': {'inputs': {'MODEL': ['1', 0]}, 'class_type': 'Anything Everywhere'},\n",
       "    '3': {'inputs': {'CLIP': ['1', 1]}, 'class_type': 'Anything Everywhere'},\n",
       "    '4': {'inputs': {'VAE': ['1', 2]}, 'class_type': 'Anything Everywhere'},\n",
       "    '5': {'inputs': {'prompt': '1 man, a 30 y.o pretty male, sexy'},\n",
       "     'class_type': 'SeaArtCharactorPrompt'},\n",
       "    '6': {'inputs': {'charactor_prompt': ['5', 0],\n",
       "      'prompt': 'Is at the home eating breakfast'},\n",
       "     'class_type': 'SeaArtAppendPrompt'},\n",
       "    '7': {'inputs': {'charactor_prompt': ['5', 0],\n",
       "      'prompt': 'Receives a phone call, close up'},\n",
       "     'class_type': 'SeaArtAppendPrompt'},\n",
       "    '8': {'inputs': {'charactor_prompt': ['5', 0],\n",
       "      'prompt': 'Inside the spaceship with bikini'},\n",
       "     'class_type': 'SeaArtAppendPrompt'},\n",
       "    '9': {'inputs': {'charactor_prompt': '',\n",
       "      'prompt': 'look at the camera, nsfw'},\n",
       "     'class_type': 'SeaArtAppendPrompt'},\n",
       "    '10': {'inputs': {'text': ['6', 0], 'clip': ['1', 1]},\n",
       "     'class_type': 'CLIPTextEncode'},\n",
       "    '11': {'inputs': {'text': ['7', 0], 'clip': ['1', 1]},\n",
       "     'class_type': 'CLIPTextEncode'},\n",
       "    '12': {'inputs': {'text': ['8', 0], 'clip': ['1', 1]},\n",
       "     'class_type': 'CLIPTextEncode'},\n",
       "    '13': {'inputs': {'text': ['9', 0], 'clip': ['1', 1]},\n",
       "     'class_type': 'CLIPTextEncode'},\n",
       "    '14': {'inputs': {'text': ['9', 0], 'clip': ['1', 1]},\n",
       "     'class_type': 'CLIPTextEncode'},\n",
       "    '15': {'inputs': {'text': ['9', 0], 'clip': ['1', 1]},\n",
       "     'class_type': 'CLIPTextEncode'},\n",
       "    '16': {'inputs': {'conditioning_1': ['10', 0],\n",
       "      'conditioning_2': ['11', 0],\n",
       "      'conditioning_3': ['12', 0],\n",
       "      'conditioning_4': ['27', 0],\n",
       "      'clip': ['1', 1]},\n",
       "     'class_type': 'SeaArtMergeStoryCondition'},\n",
       "    '17': {'inputs': {'conditioning_1': ['13', 0],\n",
       "      'conditioning_2': ['14', 0],\n",
       "      'conditioning_3': ['15', 0],\n",
       "      'conditioning_4': ['28', 0],\n",
       "      'clip': ['1', 1]},\n",
       "     'class_type': 'SeaArtMergeStoryCondition'},\n",
       "    '18': {'inputs': {'seed': 777438375721231,\n",
       "      'steps': 20,\n",
       "      'cfg': 8.0,\n",
       "      'sampler_name': 'dpmpp_2m',\n",
       "      'scheduler': 'karras',\n",
       "      'denoise': 1.0,\n",
       "      'model': ['19', 0],\n",
       "      'positive': ['16', 0],\n",
       "      'negative': ['17', 0],\n",
       "      'latent_image': ['20', 0]},\n",
       "     'class_type': 'KSampler'},\n",
       "    '19': {'inputs': {'id_length': 4,\n",
       "      'width': 512,\n",
       "      'height': 512,\n",
       "      'same': 0.5,\n",
       "      'model': ['1', 0]},\n",
       "     'class_type': 'SeaArtApplyStory'},\n",
       "    '20': {'inputs': {'width': 512, 'height': 512, 'batch_size': 4},\n",
       "     'class_type': 'EmptyLatentImage'},\n",
       "    '21': {'inputs': {'samples': ['18', 0], 'vae': ['1', 2]},\n",
       "     'class_type': 'VAEDecode'},\n",
       "    '22': {'inputs': {'images': ['21', 0]}, 'class_type': 'PreviewImage'},\n",
       "    '26': {'inputs': {'charactor_prompt': ['5', 0],\n",
       "      'prompt': 'Fighting in the space with superman suit'},\n",
       "     'class_type': 'SeaArtAppendPrompt'},\n",
       "    '27': {'inputs': {'text': ['26', 0], 'clip': ['1', 1]},\n",
       "     'class_type': 'CLIPTextEncode'},\n",
       "    '28': {'inputs': {'text': ['9', 0], 'clip': ['1', 1]},\n",
       "     'class_type': 'CLIPTextEncode'}},\n",
       "   {},\n",
       "   ['3', '22', '2', '4']],\n",
       "  'outputs': {'22': {'images': [{'filename': 'ComfyUI_temp_jqjkj_00005_.png',\n",
       "      'subfolder': '',\n",
       "      'type': 'temp'},\n",
       "     {'filename': 'ComfyUI_temp_jqjkj_00006_.png',\n",
       "      'subfolder': '',\n",
       "      'type': 'temp'},\n",
       "     {'filename': 'ComfyUI_temp_jqjkj_00007_.png',\n",
       "      'subfolder': '',\n",
       "      'type': 'temp'},\n",
       "     {'filename': 'ComfyUI_temp_jqjkj_00008_.png',\n",
       "      'subfolder': '',\n",
       "      'type': 'temp'}]}},\n",
       "  'status': {'status_str': 'success',\n",
       "   'completed': True,\n",
       "   'messages': [['execution_start',\n",
       "     {'prompt_id': '5ae4a134-4ded-48fc-aa4b-d4681f7ceeac',\n",
       "      'timestamp': 1740992964551}],\n",
       "    ['execution_cached',\n",
       "     {'nodes': ['1',\n",
       "       '2',\n",
       "       '3',\n",
       "       '4',\n",
       "       '9',\n",
       "       '13',\n",
       "       '14',\n",
       "       '15',\n",
       "       '17',\n",
       "       '19',\n",
       "       '20',\n",
       "       '28'],\n",
       "      'prompt_id': '5ae4a134-4ded-48fc-aa4b-d4681f7ceeac',\n",
       "      'timestamp': 1740992964560}],\n",
       "    ['execution_success',\n",
       "     {'prompt_id': '5ae4a134-4ded-48fc-aa4b-d4681f7ceeac',\n",
       "      'timestamp': 1740992969779}]]},\n",
       "  'meta': {'22': {'node_id': '22',\n",
       "    'display_node': '22',\n",
       "    'parent_node': None,\n",
       "    'real_node_id': '22'}}}}"
      ]
     },
     "execution_count": 242,
     "metadata": {},
     "output_type": "execute_result"
    }
   ],
   "source": [
    "resp_data"
   ]
  },
  {
   "cell_type": "code",
   "execution_count": 228,
   "id": "617e224d-66f2-4632-b955-c9a0eb59984a",
   "metadata": {},
   "outputs": [],
   "source": [
    "outputs = resp_data[prompt_id][\"outputs\"]"
   ]
  },
  {
   "cell_type": "code",
   "execution_count": 229,
   "id": "cef81e62-8d7e-4f88-9a7d-80e7211bcc0a",
   "metadata": {},
   "outputs": [],
   "source": [
    "download_meta = []\n",
    "\n",
    "for k, v in outputs.items():\n",
    "    for image in v[\"images\"]:\n",
    "        download_meta.append({\"name\": image[\"filename\"], \"type\": image[\"type\"]})"
   ]
  },
  {
   "cell_type": "code",
   "execution_count": 230,
   "id": "7d276de0-6bc6-46d1-9764-c73f9a841b22",
   "metadata": {},
   "outputs": [],
   "source": [
    "# 下载"
   ]
  },
  {
   "cell_type": "code",
   "execution_count": 231,
   "id": "4c98a341-9239-4d2e-845f-34131acef482",
   "metadata": {},
   "outputs": [
    {
     "name": "stdout",
     "output_type": "stream",
     "text": [
      "图片已保存为 output.png\n"
     ]
    }
   ],
   "source": [
    "# 假设从历史记录中提取到的图片路径是 \"output.png\"\n",
    "for i, meta in enumerate(download_meta):\n",
    "    \n",
    "    name = meta[\"name\"]\n",
    "    type = meta[\"type\"]\n",
    "\n",
    "    # 下载图片\n",
    "    response = requests.get(f\"{BASE_URL}/view?filename={name}&type={type}\")\n",
    "    \n",
    "    # 检查响应状态\n",
    "    if response.status_code == 200:\n",
    "        with open(f\"output/output_{i}.png\", \"wb\") as f:\n",
    "            f.write(response.content)\n",
    "        print(\"图片已保存为 output.png\")\n",
    "    else:\n",
    "        print(f\"图片下载失败，状态码: {response.status_code}\")"
   ]
  },
  {
   "cell_type": "code",
   "execution_count": 252,
   "id": "c6cfa54c-e4c9-4c36-b769-ab28e49fdecc",
   "metadata": {},
   "outputs": [],
   "source": [
    "from loguru import logger"
   ]
  },
  {
   "cell_type": "code",
   "execution_count": 254,
   "id": "6826db18-58c1-42a0-a277-6e11463b34bf",
   "metadata": {},
   "outputs": [
    {
     "name": "stderr",
     "output_type": "stream",
     "text": [
      "\u001b[32m2025-03-04 15:09:25.403\u001b[0m | \u001b[1mINFO    \u001b[0m | \u001b[36m__main__\u001b[0m:\u001b[36m<module>\u001b[0m:\u001b[36m1\u001b[0m - \u001b[1m{\n",
      "  \"6\": {\n",
      "    \"inputs\": {\n",
      "      \"text\": \"((masterpiece, photo, best quality)), award winning, 4k, 8k, a character sheet, multiple views from different angles, looking in different directions, visible face, (white background:1.3)\",\n",
      "      \"clip\": [\n",
      "        \"11\",\n",
      "        0\n",
      "      ]\n",
      "    },\n",
      "    \"class_type\": \"CLIPTextEncode\"\n",
      "  },\n",
      "  \"8\": {\n",
      "    \"inputs\": {\n",
      "      \"samples\": [\n",
      "        \"13\",\n",
      "        0\n",
      "      ],\n",
      "      \"vae\": [\n",
      "        \"63\",\n",
      "        0\n",
      "      ]\n",
      "    },\n",
      "    \"class_type\": \"VAEDecode\"\n",
      "  },\n",
      "  \"9\": {\n",
      "    \"inputs\": {\n",
      "      \"filename_prefix\": \"ComfyUI\",\n",
      "      \"images\": [\n",
      "        \"8\",\n",
      "        0\n",
      "      ]\n",
      "    },\n",
      "    \"class_type\": \"SaveImage\"\n",
      "  },\n",
      "  \"11\": {\n",
      "    \"inputs\": {\n",
      "      \"clip_name1\": \"clip_l.safetensors\",\n",
      "      \"clip_name2\": \"t5xxl_fp8_e4m3fn.safetensors\",\n",
      "      \"type\": \"flux\"\n",
      "    },\n",
      "    \"class_type\": \"DualCLIPLoader\"\n",
      "  },\n",
      "  \"13\": {\n",
      "    \"inputs\": {\n",
      "      \"noise\": [\n",
      "        \"25\",\n",
      "        0\n",
      "      ],\n",
      "      \"guider\": [\n",
      "        \"22\",\n",
      "        0\n",
      "      ],\n",
      "      \"sampler\": [\n",
      "        \"16\",\n",
      "        0\n",
      "      ],\n",
      "      \"sigmas\": [\n",
      "        \"17\",\n",
      "        0\n",
      "      ],\n",
      "      \"latent_image\": [\n",
      "        \"118\",\n",
      "        0\n",
      "      ]\n",
      "    },\n",
      "    \"class_type\": \"SamplerCustomAdvanced\"\n",
      "  },\n",
      "  \"16\": {\n",
      "    \"inputs\": {\n",
      "      \"sampler_name\": \"deis\"\n",
      "    },\n",
      "    \"class_type\": \"KSamplerSelect\"\n",
      "  },\n",
      "  \"17\": {\n",
      "    \"inputs\": {\n",
      "      \"scheduler\": \"beta\",\n",
      "      \"steps\": 25,\n",
      "      \"denoise\": 1,\n",
      "      \"model\": [\n",
      "        \"117\",\n",
      "        0\n",
      "      ]\n",
      "    },\n",
      "    \"class_type\": \"BasicScheduler\"\n",
      "  },\n",
      "  \"22\": {\n",
      "    \"inputs\": {\n",
      "      \"model\": [\n",
      "        \"117\",\n",
      "        0\n",
      "      ],\n",
      "      \"conditioning\": [\n",
      "        \"121\",\n",
      "        0\n",
      "      ]\n",
      "    },\n",
      "    \"class_type\": \"BasicGuider\"\n",
      "  },\n",
      "  \"25\": {\n",
      "    \"inputs\": {\n",
      "      \"noise_seed\": 245670984212664\n",
      "    },\n",
      "    \"class_type\": \"RandomNoise\"\n",
      "  },\n",
      "  \"40\": {\n",
      "    \"inputs\": {\n",
      "      \"unet_name\": \"flux1-dev-Q8_0.gguf\"\n",
      "    },\n",
      "    \"class_type\": \"UnetLoaderGGUF\"\n",
      "  },\n",
      "  \"41\": {\n",
      "    \"inputs\": {\n",
      "      \"pulid_file\": \"pulid_flux_v0.9.0.safetensors\"\n",
      "    },\n",
      "    \"class_type\": \"PulidFluxModelLoader\"\n",
      "  },\n",
      "  \"42\": {\n",
      "    \"inputs\": {},\n",
      "    \"class_type\": \"PulidFluxEvaClipLoader\"\n",
      "  },\n",
      "  \"43\": {\n",
      "    \"inputs\": {\n",
      "      \"provider\": \"CPU\"\n",
      "    },\n",
      "    \"class_type\": \"PulidFluxInsightFaceLoader\"\n",
      "  },\n",
      "  \"44\": {\n",
      "    \"inputs\": {\n",
      "      \"image\": \"/data/ysp-comfyui-platforms/ComfyUI-G4/input/\\u751f\\u6210\\u4eba\\u50cf\\u6444\\u5f71\\u56fe\\u7247 (1).png\",\n",
      "      \"upload\": \"image\"\n",
      "    },\n",
      "    \"class_type\": \"LoadImage\"\n",
      "  },\n",
      "  \"45\": {\n",
      "    \"inputs\": {\n",
      "      \"weight\": 0.8,\n",
      "      \"start_at\": 0,\n",
      "      \"end_at\": 1,\n",
      "      \"fusion\": \"mean\",\n",
      "      \"fusion_weight_max\": 1,\n",
      "      \"fusion_weight_min\": 0,\n",
      "      \"train_step\": 1000,\n",
      "      \"use_gray\": true,\n",
      "      \"model\": [\n",
      "        \"40\",\n",
      "        0\n",
      "      ],\n",
      "      \"pulid_flux\": [\n",
      "        \"41\",\n",
      "        0\n",
      "      ],\n",
      "      \"eva_clip\": [\n",
      "        \"42\",\n",
      "        0\n",
      "      ],\n",
      "      \"face_analysis\": [\n",
      "        \"43\",\n",
      "        0\n",
      "      ],\n",
      "      \"image\": [\n",
      "        \"44\",\n",
      "        0\n",
      "      ]\n",
      "    },\n",
      "    \"class_type\": \"ApplyPulidFlux\"\n",
      "  },\n",
      "  \"57\": {\n",
      "    \"inputs\": {\n",
      "      \"image\": \"/data/ysp-comfyui-platforms/ComfyUI-G4/input/multiangle_face.png\",\n",
      "      \"upload\": \"image\"\n",
      "    },\n",
      "    \"class_type\": \"LoadImage\"\n",
      "  },\n",
      "  \"61\": {\n",
      "    \"inputs\": {\n",
      "      \"strength\": 0.66,\n",
      "      \"start_percent\": 0,\n",
      "      \"end_percent\": 0.4,\n",
      "      \"positive\": [\n",
      "        \"6\",\n",
      "        0\n",
      "      ],\n",
      "      \"negative\": [\n",
      "        \"64\",\n",
      "        0\n",
      "      ],\n",
      "      \"control_net\": [\n",
      "        \"110\",\n",
      "        0\n",
      "      ],\n",
      "      \"vae\": [\n",
      "        \"63\",\n",
      "        0\n",
      "      ],\n",
      "      \"image\": [\n",
      "        \"57\",\n",
      "        0\n",
      "      ]\n",
      "    },\n",
      "    \"class_type\": \"ControlNetApplySD3\"\n",
      "  },\n",
      "  \"63\": {\n",
      "    \"inputs\": {\n",
      "      \"vae_name\": \"ae.safetensors\"\n",
      "    },\n",
      "    \"class_type\": \"VAELoader\"\n",
      "  },\n",
      "  \"64\": {\n",
      "    \"inputs\": {\n",
      "      \"text\": [\n",
      "        \"65\",\n",
      "        0\n",
      "      ],\n",
      "      \"clip\": [\n",
      "        \"11\",\n",
      "        0\n",
      "      ]\n",
      "    },\n",
      "    \"class_type\": \"CLIPTextEncode\"\n",
      "  },\n",
      "  \"65\": {\n",
      "    \"inputs\": {\n",
      "      \"positive\": \"embedding:easynegative, embedding:ng_deepnegative_v1_75t, blurry, blurr, unsharp focus, depth of field, DoF, BokeH, easy negative, badhandv4, (worst quality, low quality, normal quality), bad-artist, blurry, ugly, ((bad anatomy)),((bad hands)),((bad proportions)),((duplicate limbs)),((fused limbs)),((interlocking fingers)),((poorly drawn face)),((bad embedding:bad-hands-5)), ((long neck)), ((ugly neck)), ((bad eyes)), ((center eyes))\"\n",
      "    },\n",
      "    \"class_type\": \"easy positive\"\n",
      "  },\n",
      "  \"110\": {\n",
      "    \"inputs\": {\n",
      "      \"control_net_name\": \"FLUX.1/flux_shakker_labs_union_pro-fp8_e4m3fn.safetensors\"\n",
      "    },\n",
      "    \"class_type\": \"ControlNetLoader\"\n",
      "  },\n",
      "  \"117\": {\n",
      "    \"inputs\": {\n",
      "      \"max_shift\": 1.15,\n",
      "      \"base_shift\": 0.5,\n",
      "      \"width\": 1120,\n",
      "      \"height\": 1024,\n",
      "      \"model\": [\n",
      "        \"45\",\n",
      "        0\n",
      "      ]\n",
      "    },\n",
      "    \"class_type\": \"ModelSamplingFlux\"\n",
      "  },\n",
      "  \"118\": {\n",
      "    \"inputs\": {\n",
      "      \"width\": 1120,\n",
      "      \"height\": 1024,\n",
      "      \"batch_size\": 1\n",
      "    },\n",
      "    \"class_type\": \"EmptySD3LatentImage\"\n",
      "  },\n",
      "  \"121\": {\n",
      "    \"inputs\": {\n",
      "      \"guidance\": 4.2,\n",
      "      \"conditioning\": [\n",
      "        \"61\",\n",
      "        0\n",
      "      ]\n",
      "    },\n",
      "    \"class_type\": \"FluxGuidance\"\n",
      "  }\n",
      "}\u001b[0m\n"
     ]
    }
   ],
   "source": [
    "logger.info(json.dumps(pic_workflow, indent=2))"
   ]
  },
  {
   "cell_type": "code",
   "execution_count": null,
   "id": "2f765611-07be-4183-bed4-5a87f56ab09a",
   "metadata": {},
   "outputs": [],
   "source": [
    "# 文字api\n",
    "# 图片api：上传图片到comfyui的服务器，存储到项目文件中"
   ]
  },
  {
   "cell_type": "code",
   "execution_count": 10,
   "id": "8caea414-f05b-4d49-8cf2-81cf216b006b",
   "metadata": {},
   "outputs": [],
   "source": [
    "from pathlib import Path\n",
    "import os\n",
    "dir = \"services\"\n",
    "os.environ[\"SERVICE_ROOT\"] = str(Path(os.getcwd()) / dir)\n",
    "\n",
    "def get_specific_service_path(service_name: str) -> str:\n",
    "    \"\"\"获取服务的具体路径\"\"\"\n",
    "    return Path(os.getenv(\"SERVICE_ROOT\")) / service_name"
   ]
  },
  {
   "cell_type": "code",
   "execution_count": 22,
   "id": "6751e9c4-d3e0-4b43-8226-df946bab0158",
   "metadata": {},
   "outputs": [
    {
     "data": {
      "text/plain": [
       "PosixPath('/data/user/zhaoyizhe/projects/ysp/comfyui-box')"
      ]
     },
     "execution_count": 22,
     "metadata": {},
     "output_type": "execute_result"
    }
   ],
   "source": [
    "Path(os.getenv(\"PROJECT_ROOT\")).resolve()"
   ]
  },
  {
   "cell_type": "code",
   "execution_count": 14,
   "id": "2753f512-e28b-4f2c-a433-9bfe1ffec425",
   "metadata": {},
   "outputs": [],
   "source": [
    "# 测试服务名称获取"
   ]
  },
  {
   "cell_type": "code",
   "execution_count": 19,
   "id": "6f558e83-2b83-4e26-8ef9-e917c2c99385",
   "metadata": {},
   "outputs": [],
   "source": [
    "from dotenv import load_dotenv\n",
    "from typing import List\n",
    "# 加载环境变量\n",
    "load_dotenv()\n",
    "\n",
    "def get_service_names() -> List[str]:\n",
    "    \"\"\"获取所有服务名称\"\"\"\n",
    "    services_dir = Path(os.getenv(\"SERVICE_ROOT\"))\n",
    "    return [\n",
    "        d.name for d in services_dir.iterdir()\n",
    "        if d.is_dir() and \n",
    "           not d.name.startswith(\"__\") and\n",
    "           (d / \"service.py\").exists()\n",
    "    ]"
   ]
  },
  {
   "cell_type": "code",
   "execution_count": 20,
   "id": "508a5e20-4b33-412e-9f12-10544d7e6e9a",
   "metadata": {},
   "outputs": [
    {
     "data": {
      "text/plain": [
       "['MultiAngle', 'GenerateStory', 'base_service']"
      ]
     },
     "execution_count": 20,
     "metadata": {},
     "output_type": "execute_result"
    }
   ],
   "source": [
    "get_service_names()"
   ]
  },
  {
   "cell_type": "code",
   "execution_count": 26,
   "id": "6b24e68c-d34c-4008-b7b1-9b7a7f88a99d",
   "metadata": {},
   "outputs": [
    {
     "name": "stdout",
     "output_type": "stream",
     "text": [
      "/data/user/zhaoyizhe/projects/ysp/comfyui-box\n"
     ]
    }
   ],
   "source": [
    "!pwd"
   ]
  },
  {
   "cell_type": "code",
   "execution_count": 26,
   "id": "9b605bb7-daf3-4634-b8cf-0775a3d06861",
   "metadata": {},
   "outputs": [
    {
     "name": "stdout",
     "output_type": "stream",
     "text": [
      "/data/user/zhaoyizhe/projects/ysp/comfyui-box\n"
     ]
    }
   ],
   "source": [
    "!pwd"
   ]
  },
  {
   "cell_type": "code",
   "execution_count": 27,
   "id": "d0d3442b-6646-4ff8-a1d1-bfbcf939a8ed",
   "metadata": {},
   "outputs": [],
   "source": [
    "from typing import List, Dict, Any"
   ]
  },
  {
   "cell_type": "code",
   "execution_count": null,
   "id": "655a0176-f480-4b36-9b59-00b1202aa6e1",
   "metadata": {},
   "outputs": [],
   "source": []
  }
 ],
 "metadata": {
  "kernelspec": {
   "display_name": "SrtGen",
   "language": "python",
   "name": "srt-gen"
  },
  "language_info": {
   "codemirror_mode": {
    "name": "ipython",
    "version": 3
   },
   "file_extension": ".py",
   "mimetype": "text/x-python",
   "name": "python",
   "nbconvert_exporter": "python",
   "pygments_lexer": "ipython3",
   "version": "3.11.9"
  }
 },
 "nbformat": 4,
 "nbformat_minor": 5
}
