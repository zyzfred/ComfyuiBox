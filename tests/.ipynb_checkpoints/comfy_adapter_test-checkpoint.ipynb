{
 "cells": [
  {
   "cell_type": "code",
   "execution_count": 16,
   "id": "bdac9064-6e48-4263-89fa-9cb274c2a9ad",
   "metadata": {},
   "outputs": [],
   "source": [
    "import sys\n",
    "import os\n",
    "import time\n",
    "sys.path.append(\"/data/user/zhaoyizhe/projects/ysp/comfyui-box\")\n",
    "import logging\n",
    "from common.comfy_adapter.executor import *\n",
    "from common.comfy_adapter.types import *\n",
    "from common.comfy_adapter.config_loader import load_comfy_config\n"
   ]
  },
  {
   "cell_type": "code",
   "execution_count": 3,
   "id": "ee6101fc-3da9-41dd-9376-884730210860",
   "metadata": {},
   "outputs": [],
   "source": [
    "# 初始化配置\n",
    "config_path = \"../common/comfy_adapter/comfy_config.toml\"\n",
    "comfy_server_config = load_comfy_config(config_path)"
   ]
  },
  {
   "cell_type": "code",
   "execution_count": 11,
   "id": "329363e3-ec1b-481f-8f81-edf930a7dec8",
   "metadata": {},
   "outputs": [],
   "source": [
    "executor = ComfyExecutor(comfy_server_config)"
   ]
  },
  {
   "cell_type": "code",
   "execution_count": 7,
   "id": "77f62ab1-16a0-454e-973f-f0e3775cad6a",
   "metadata": {},
   "outputs": [],
   "source": [
    "# 加载json文件\n",
    "with open(\"../data/input/workflow/多角度特写.json\", \"r\") as f:\n",
    "    workflow_data = json.load(f)"
   ]
  },
  {
   "cell_type": "code",
   "execution_count": 8,
   "id": "a9b9d82e-d609-4644-a562-8df6c35e9b09",
   "metadata": {},
   "outputs": [],
   "source": [
    "input_image =  \"/data/ysp-comfyui-platforms/ComfyUI-G4/input/生成人像摄影图片 (1).png\""
   ]
  },
  {
   "cell_type": "code",
   "execution_count": 9,
   "id": "0de08631-56be-49a1-91d5-e98a1a2fd8ec",
   "metadata": {},
   "outputs": [],
   "source": [
    "workflow_data[\"44\"][\"inputs\"][\"image\"] = input_image"
   ]
  },
  {
   "cell_type": "code",
   "execution_count": 12,
   "id": "711fe9b4-ade2-4ec5-9fe9-83764c817d79",
   "metadata": {},
   "outputs": [],
   "source": [
    "# 提交工作流\n",
    "prompt_id = executor.submit_workflow({\"prompt\": workflow_data})"
   ]
  },
  {
   "cell_type": "code",
   "execution_count": 14,
   "id": "12939778-952d-444e-ad94-fc00fd79c4f1",
   "metadata": {},
   "outputs": [
    {
     "data": {
      "text/plain": [
       "'9d0263cd-a7a8-4cba-a2be-4eccf10aaef1'"
      ]
     },
     "execution_count": 14,
     "metadata": {},
     "output_type": "execute_result"
    }
   ],
   "source": [
    "prompt_id"
   ]
  },
  {
   "cell_type": "code",
   "execution_count": 17,
   "id": "34f64f0a-c395-4aa4-829b-1a05ea05a6e3",
   "metadata": {},
   "outputs": [],
   "source": [
    "# 轮询状态\n",
    "status = executor.get_workflow_status(\"9d0263cd-a7a8-4cba-a2be-4eccf10aaef1\")"
   ]
  },
  {
   "cell_type": "code",
   "execution_count": null,
   "id": "82e1ccc7-16ee-4355-9e28-e40f51042f5b",
   "metadata": {},
   "outputs": [],
   "source": []
  },
  {
   "cell_type": "code",
   "execution_count": 20,
   "id": "da519301-13fc-45ea-9410-fa73900aa4bf",
   "metadata": {},
   "outputs": [
    {
     "ename": "NameError",
     "evalue": "name 'Path' is not defined",
     "output_type": "error",
     "traceback": [
      "\u001b[0;31m---------------------------------------------------------------------------\u001b[0m",
      "\u001b[0;31mNameError\u001b[0m                                 Traceback (most recent call last)",
      "Cell \u001b[0;32mIn[20], line 3\u001b[0m\n\u001b[1;32m      1\u001b[0m \u001b[38;5;28;01mif\u001b[39;00m status\u001b[38;5;241m.\u001b[39mcompleted:\n\u001b[1;32m      2\u001b[0m     \u001b[38;5;66;03m# 下载图片\u001b[39;00m\n\u001b[0;32m----> 3\u001b[0m     images \u001b[38;5;241m=\u001b[39m executor\u001b[38;5;241m.\u001b[39mdownload_images(status\u001b[38;5;241m.\u001b[39mimages_meta, \u001b[38;5;124m\"\u001b[39m\u001b[38;5;124m./my_outputs\u001b[39m\u001b[38;5;124m\"\u001b[39m)\n\u001b[1;32m      4\u001b[0m     \u001b[38;5;28mprint\u001b[39m(\u001b[38;5;124mf\u001b[39m\u001b[38;5;124m\"\u001b[39m\u001b[38;5;124m成功下载 \u001b[39m\u001b[38;5;132;01m{\u001b[39;00m\u001b[38;5;28mlen\u001b[39m(images)\u001b[38;5;132;01m}\u001b[39;00m\u001b[38;5;124m 张图片\u001b[39m\u001b[38;5;124m\"\u001b[39m)\n\u001b[1;32m      5\u001b[0m \u001b[38;5;28;01melse\u001b[39;00m:\n",
      "File \u001b[0;32m~/projects/ysp/comfyui-box/common/comfy_adapter/executor.py:84\u001b[0m, in \u001b[0;36mComfyExecutor.download_images\u001b[0;34m(self, images_meta, output_dir)\u001b[0m\n\u001b[1;32m     82\u001b[0m \u001b[38;5;250m\u001b[39m\u001b[38;5;124;03m\"\"\"增强版图片下载（返回文件名-二进制字典）\"\"\"\u001b[39;00m\n\u001b[1;32m     83\u001b[0m results \u001b[38;5;241m=\u001b[39m {}\n\u001b[0;32m---> 84\u001b[0m Path(output_dir)\u001b[38;5;241m.\u001b[39mmkdir(parents\u001b[38;5;241m=\u001b[39m\u001b[38;5;28;01mTrue\u001b[39;00m, exist_ok\u001b[38;5;241m=\u001b[39m\u001b[38;5;28;01mTrue\u001b[39;00m)\n\u001b[1;32m     86\u001b[0m \u001b[38;5;28;01mfor\u001b[39;00m meta \u001b[38;5;129;01min\u001b[39;00m images_meta:\n\u001b[1;32m     87\u001b[0m     \u001b[38;5;28;01mtry\u001b[39;00m:\n",
      "\u001b[0;31mNameError\u001b[0m: name 'Path' is not defined"
     ]
    }
   ],
   "source": [
    "if status.completed:\n",
    "    # 下载图片\n",
    "    images = executor.download_images(status.images_meta, \"../data/output\")\n",
    "    print(f\"成功下载 {len(images)} 张图片\")\n",
    "else:\n",
    "    print(f\"执行状态：{status.status_str}\")"
   ]
  },
  {
   "cell_type": "code",
   "execution_count": null,
   "id": "dec8e178-ae0b-4113-ad48-fcf8b6b1335e",
   "metadata": {},
   "outputs": [],
   "source": []
  }
 ],
 "metadata": {
  "kernelspec": {
   "display_name": "SrtGen",
   "language": "python",
   "name": "srt-gen"
  },
  "language_info": {
   "codemirror_mode": {
    "name": "ipython",
    "version": 3
   },
   "file_extension": ".py",
   "mimetype": "text/x-python",
   "name": "python",
   "nbconvert_exporter": "python",
   "pygments_lexer": "ipython3",
   "version": "3.11.9"
  }
 },
 "nbformat": 4,
 "nbformat_minor": 5
}
