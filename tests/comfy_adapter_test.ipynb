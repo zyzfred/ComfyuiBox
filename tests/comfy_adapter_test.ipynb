{
 "cells": [
  {
   "cell_type": "code",
   "execution_count": 1,
   "id": "bdac9064-6e48-4263-89fa-9cb274c2a9ad",
   "metadata": {},
   "outputs": [],
   "source": [
    "import sys\n",
    "import os\n",
    "import time\n",
    "sys.path.append(\"/data/user/zhaoyizhe/projects/ysp/comfyui-box\")\n",
    "import logging\n",
    "from common.comfy_adapter.executor import *\n",
    "from common.comfy_adapter.types import *\n",
    "from common.comfy_adapter.config_loader import load_comfy_config\n"
   ]
  },
  {
   "cell_type": "code",
   "execution_count": 2,
   "id": "ee6101fc-3da9-41dd-9376-884730210860",
   "metadata": {},
   "outputs": [],
   "source": [
    "# 初始化配置\n",
    "config_path = \"../common/comfy_adapter/comfy_config.toml\"\n",
    "comfy_server_config = load_comfy_config(config_path)"
   ]
  },
  {
   "cell_type": "code",
   "execution_count": 3,
   "id": "329363e3-ec1b-481f-8f81-edf930a7dec8",
   "metadata": {},
   "outputs": [],
   "source": [
    "executor = ComfyExecutor(comfy_server_config)"
   ]
  },
  {
   "cell_type": "code",
   "execution_count": 4,
   "id": "77f62ab1-16a0-454e-973f-f0e3775cad6a",
   "metadata": {},
   "outputs": [],
   "source": [
    "# 加载json文件\n",
    "with open(\"../data/input/workflow/多角度特写.json\", \"r\") as f:\n",
    "    workflow_data = json.load(f)"
   ]
  },
  {
   "cell_type": "code",
   "execution_count": 5,
   "id": "a9b9d82e-d609-4644-a562-8df6c35e9b09",
   "metadata": {},
   "outputs": [],
   "source": [
    "input_image =  \"/data/ysp-comfyui-platforms/ComfyUI-G4/input/生成人像摄影图片 (1).png\""
   ]
  },
  {
   "cell_type": "code",
   "execution_count": 6,
   "id": "0de08631-56be-49a1-91d5-e98a1a2fd8ec",
   "metadata": {},
   "outputs": [],
   "source": [
    "workflow_data[\"44\"][\"inputs\"][\"image\"] = input_image"
   ]
  },
  {
   "cell_type": "code",
   "execution_count": 7,
   "id": "711fe9b4-ade2-4ec5-9fe9-83764c817d79",
   "metadata": {},
   "outputs": [],
   "source": [
    "# 提交工作流\n",
    "prompt_id = executor.submit_workflow({\"prompt\": workflow_data})"
   ]
  },
  {
   "cell_type": "code",
   "execution_count": 8,
   "id": "12939778-952d-444e-ad94-fc00fd79c4f1",
   "metadata": {},
   "outputs": [
    {
     "data": {
      "text/plain": [
       "'62c684c9-2e06-4e07-be52-a7c284c1d086'"
      ]
     },
     "execution_count": 8,
     "metadata": {},
     "output_type": "execute_result"
    }
   ],
   "source": [
    "prompt_id"
   ]
  },
  {
   "cell_type": "code",
   "execution_count": 9,
   "id": "34f64f0a-c395-4aa4-829b-1a05ea05a6e3",
   "metadata": {},
   "outputs": [],
   "source": [
    "# 轮询状态\n",
    "status = executor.get_workflow_status(prompt_id)"
   ]
  },
  {
   "cell_type": "code",
   "execution_count": null,
   "id": "82e1ccc7-16ee-4355-9e28-e40f51042f5b",
   "metadata": {},
   "outputs": [],
   "source": []
  },
  {
   "cell_type": "code",
   "execution_count": 10,
   "id": "da519301-13fc-45ea-9410-fa73900aa4bf",
   "metadata": {},
   "outputs": [
    {
     "name": "stdout",
     "output_type": "stream",
     "text": [
      "成功下载 1 张图片\n"
     ]
    }
   ],
   "source": [
    "if status.completed:\n",
    "    # 下载图片\n",
    "    images = executor.download_images(status.images_meta, \"../data/output\")\n",
    "    print(f\"成功下载 {len(images)} 张图片\")\n",
    "else:\n",
    "    print(f\"执行状态：{status.status_str}\")"
   ]
  },
  {
   "cell_type": "code",
   "execution_count": 11,
   "id": "dec8e178-ae0b-4113-ad48-fcf8b6b1335e",
   "metadata": {},
   "outputs": [
    {
     "data": {
      "text/plain": [
       "'../common/comfy_adapter/comfy_config.toml'"
      ]
     },
     "execution_count": 11,
     "metadata": {},
     "output_type": "execute_result"
    }
   ],
   "source": [
    "os.getenv(\"COMFY_CONFIG_PATH\", \"../common/comfy_adapter/comfy_config.toml\")"
   ]
  },
  {
   "cell_type": "code",
   "execution_count": null,
   "id": "626a1179-fcd0-4758-b46f-650b57ccc4e8",
   "metadata": {},
   "outputs": [],
   "source": []
  }
 ],
 "metadata": {
  "kernelspec": {
   "display_name": "SrtGen",
   "language": "python",
   "name": "srt-gen"
  },
  "language_info": {
   "codemirror_mode": {
    "name": "ipython",
    "version": 3
   },
   "file_extension": ".py",
   "mimetype": "text/x-python",
   "name": "python",
   "nbconvert_exporter": "python",
   "pygments_lexer": "ipython3",
   "version": "3.11.9"
  }
 },
 "nbformat": 4,
 "nbformat_minor": 5
}
